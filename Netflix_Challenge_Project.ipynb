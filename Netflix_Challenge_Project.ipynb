{
  "nbformat": 4,
  "nbformat_minor": 0,
  "metadata": {
    "colab": {
      "name": "Netflix Challenge Project.ipynb",
      "provenance": [],
      "collapsed_sections": [],
      "mount_file_id": "1a_my8bnywSdYf9YLMdPqhFmLa5oqVvqK",
      "authorship_tag": "ABX9TyPxUFVDeGaULmjV1sYhNWvo",
      "include_colab_link": true
    },
    "kernelspec": {
      "name": "python3",
      "display_name": "Python 3"
    }
  },
  "cells": [
    {
      "cell_type": "markdown",
      "metadata": {
        "id": "view-in-github",
        "colab_type": "text"
      },
      "source": [
        "<a href=\"https://colab.research.google.com/github/Hasan-Iqtedar/Netflix-Challenge/blob/master/Netflix_Challenge_Project.ipynb\" target=\"_parent\"><img src=\"https://colab.research.google.com/assets/colab-badge.svg\" alt=\"Open In Colab\"/></a>"
      ]
    },
    {
      "cell_type": "code",
      "metadata": {
        "id": "qpbetXZ4Mm__",
        "colab_type": "code",
        "colab": {}
      },
      "source": [
        "import numpy as np\n",
        "import gc\n",
        "import scipy\n",
        "from scipy.sparse import coo_matrix\n",
        "from sklearn.model_selection import train_test_split\n",
        "from sklearn.decomposition import NMF\n",
        "\n",
        "\n"
      ],
      "execution_count": 1,
      "outputs": []
    },
    {
      "cell_type": "code",
      "metadata": {
        "id": "M8nEfaNiISBi",
        "colab_type": "code",
        "colab": {}
      },
      "source": [
        "import pandas as pd\n",
        "import math"
      ],
      "execution_count": null,
      "outputs": []
    },
    {
      "cell_type": "code",
      "metadata": {
        "id": "RKzdo3BJ5cVw",
        "colab_type": "code",
        "colab": {}
      },
      "source": [
        "df1 = pd.read_csv(\"/content/drive/My Drive/combined_data_1.txt\", header = None, names = ['Cust_Id', 'Rating'], usecols = [0,1] )"
      ],
      "execution_count": 2,
      "outputs": []
    },
    {
      "cell_type": "code",
      "metadata": {
        "id": "4G-V-Rb285rc",
        "colab_type": "code",
        "colab": {}
      },
      "source": [
        "df1['Rating'] = df1['Rating'].astype(float)\n"
      ],
      "execution_count": 3,
      "outputs": []
    },
    {
      "cell_type": "code",
      "metadata": {
        "id": "C9ouVV4o9iTF",
        "colab_type": "code",
        "colab": {
          "base_uri": "https://localhost:8080/",
          "height": 136
        },
        "outputId": "598c7eb2-87e8-4a26-c3e1-6b10d5f70f45"
      },
      "source": [
        "print('Dataset 1 shape: {}'.format(df1.shape))\n",
        "\n",
        "print(df1[0:5])"
      ],
      "execution_count": 4,
      "outputs": [
        {
          "output_type": "stream",
          "text": [
            "Dataset 1 shape: (24058263, 2)\n",
            "   Cust_Id  Rating\n",
            "0       1:     NaN\n",
            "1  1488844     3.0\n",
            "2   822109     5.0\n",
            "3   885013     4.0\n",
            "4    30878     4.0\n"
          ],
          "name": "stdout"
        }
      ]
    },
    {
      "cell_type": "code",
      "metadata": {
        "id": "CLKlIw3b9xUT",
        "colab_type": "code",
        "colab": {
          "base_uri": "https://localhost:8080/",
          "height": 68
        },
        "outputId": "19033317-e685-4848-ba3b-151dd40445c2"
      },
      "source": [
        "df2 = pd.read_csv(\"/content/drive/My Drive/combined_data_2.txt\", header = None, names = ['Cust_Id', 'Rating'], usecols = [0,1] )\n",
        "df3 = pd.read_csv(\"/content/drive/My Drive/combined_data_3.txt\", header = None, names = ['Cust_Id', 'Rating'], usecols = [0,1] )\n",
        "df4 = pd.read_csv(\"/content/drive/My Drive/combined_data_4.txt\", header = None, names = ['Cust_Id', 'Rating'], usecols = [0,1] )\n",
        "\n",
        "df2['Rating'] = df2['Rating'].astype(float)\n",
        "df3['Rating'] = df3['Rating'].astype(float)\n",
        "df4['Rating'] = df4['Rating'].astype(float)\n",
        "\n",
        "print('Dataset 2 shape: {}'.format(df2.shape))\n",
        "print('Dataset 3 shape: {}'.format(df3.shape))\n",
        "print('Dataset 4 shape: {}'.format(df4.shape))\n",
        "\n",
        "#print('\\n',df2[0:5],'\\n\\n')\n",
        "#print('\\n',df3[0:5],'\\n\\n')\n",
        "#print('\\n',df4[0:5],'\\n\\n')\n",
        "\n"
      ],
      "execution_count": 4,
      "outputs": [
        {
          "output_type": "stream",
          "text": [
            "Dataset 2 shape: (26982302, 2)\n",
            "Dataset 3 shape: (22605786, 2)\n",
            "Dataset 4 shape: (26851926, 2)\n"
          ],
          "name": "stdout"
        }
      ]
    },
    {
      "cell_type": "code",
      "metadata": {
        "id": "_BJKd4Gb-iqz",
        "colab_type": "code",
        "colab": {}
      },
      "source": [
        "\n",
        "df = df1.append(df2, ignore_index = True)\n",
        "df = df.append(df3, ignore_index = True)\n",
        "df = df.append(df4, ignore_index = True)\n",
        "\n",
        "del df1,df2,df3,df4"
      ],
      "execution_count": 5,
      "outputs": []
    },
    {
      "cell_type": "code",
      "metadata": {
        "id": "uhZm8ZZ9_MDR",
        "colab_type": "code",
        "colab": {
          "base_uri": "https://localhost:8080/",
          "height": 51
        },
        "outputId": "c14e5a12-a75a-45ef-e075-52741d3c2191"
      },
      "source": [
        "#gc.collect()\n",
        "movie_count = df.isnull().sum()[1]\n",
        "print('Total movies: ',movie_count)\n",
        "print(\"Dataset shape: {}\".format(df.shape))\n",
        "del m1,m2,m3,m4,m"
      ],
      "execution_count": 8,
      "outputs": [
        {
          "output_type": "stream",
          "text": [
            "Total movies:  17770\n",
            "Dataset shape: (100498277, 2)\n"
          ],
          "name": "stdout"
        }
      ]
    },
    {
      "cell_type": "code",
      "metadata": {
        "id": "aa10oyUn_bO9",
        "colab_type": "code",
        "colab": {
          "base_uri": "https://localhost:8080/",
          "height": 391
        },
        "outputId": "b4f595b5-600f-4bfc-83d0-70a3b70ef684"
      },
      "source": [
        "print(df.iloc[::5000000, :])\n",
        "#print(df1.iloc[50:55])"
      ],
      "execution_count": 9,
      "outputs": [
        {
          "output_type": "stream",
          "text": [
            "           Cust_Id  Rating\n",
            "0               1:     NaN\n",
            "5000000    2560324     4.0\n",
            "10000000   2271935     2.0\n",
            "15000000   1921803     2.0\n",
            "20000000   1933327     3.0\n",
            "25000000   1465002     3.0\n",
            "30000000    961023     4.0\n",
            "35000000   1372532     5.0\n",
            "40000000    854274     5.0\n",
            "45000000    116334     3.0\n",
            "50000000    768483     3.0\n",
            "55000000   1331144     5.0\n",
            "60000000   1609324     2.0\n",
            "65000000   1699240     3.0\n",
            "70000000   1776418     4.0\n",
            "75000000   1643826     5.0\n",
            "80000000    932047     4.0\n",
            "85000000   2292868     4.0\n",
            "90000000    932191     4.0\n",
            "95000000   1815101     3.0\n",
            "100000000   872339     4.0\n"
          ],
          "name": "stdout"
        }
      ]
    },
    {
      "cell_type": "code",
      "metadata": {
        "id": "BiOQO2z2x7Dq",
        "colab_type": "code",
        "colab": {
          "base_uri": "https://localhost:8080/",
          "height": 391
        },
        "outputId": "72acb0c2-5701-45d0-ace3-e92648650b83"
      },
      "source": [
        "#Removing rows containing movie id\n",
        "df = df[pd.notnull(df['Rating'])]\n",
        "print(df.iloc[::5000000, :])"
      ],
      "execution_count": 7,
      "outputs": [
        {
          "output_type": "stream",
          "text": [
            "           Cust_Id  Rating\n",
            "1          1488844     3.0\n",
            "5000996     501954     2.0\n",
            "10001962    404654     5.0\n",
            "15002876    886608     2.0\n",
            "20003825   1193835     2.0\n",
            "25004661   1899206     3.0\n",
            "30005496    154804     4.0\n",
            "35006274   2078749     5.0\n",
            "40007057    450763     5.0\n",
            "45007991    102092     3.0\n",
            "50009023    220298     5.0\n",
            "55010042    550530     5.0\n",
            "60011038    222570     3.0\n",
            "65011875   1273080     5.0\n",
            "70012676   2026970     5.0\n",
            "75013582    506044     4.0\n",
            "80014453    353605     2.0\n",
            "85015116    664606     3.0\n",
            "90016008   2213715     3.0\n",
            "95016879   1589401     5.0\n",
            "100017627  2314006     4.0\n"
          ],
          "name": "stdout"
        }
      ]
    },
    {
      "cell_type": "code",
      "metadata": {
        "id": "pwCQ6sfvTXGp",
        "colab_type": "code",
        "colab": {
          "base_uri": "https://localhost:8080/",
          "height": 34
        },
        "outputId": "07fbe3bd-40ab-49ef-8855-78a6da0ddb4d"
      },
      "source": [
        "gc.collect()"
      ],
      "execution_count": 9,
      "outputs": [
        {
          "output_type": "execute_result",
          "data": {
            "text/plain": [
              "0"
            ]
          },
          "metadata": {
            "tags": []
          },
          "execution_count": 9
        }
      ]
    },
    {
      "cell_type": "code",
      "metadata": {
        "id": "XKn1m-pRyKwb",
        "colab_type": "code",
        "colab": {
          "base_uri": "https://localhost:8080/",
          "height": 119
        },
        "outputId": "9125520d-6f45-4192-f24a-028ec6fc605d"
      },
      "source": [
        "print(df[0:5])"
      ],
      "execution_count": 11,
      "outputs": [
        {
          "output_type": "stream",
          "text": [
            "   Cust_Id  Rating\n",
            "1  1488844     3.0\n",
            "2   822109     5.0\n",
            "3   885013     4.0\n",
            "4    30878     4.0\n",
            "5   823519     3.0\n"
          ],
          "name": "stdout"
        }
      ]
    },
    {
      "cell_type": "code",
      "metadata": {
        "id": "TGp-n69n56HA",
        "colab_type": "code",
        "colab": {
          "base_uri": "https://localhost:8080/",
          "height": 34
        },
        "outputId": "b3c449c7-4bd2-4cd1-c708-01ab735dd4ae"
      },
      "source": [
        "print(df.shape)"
      ],
      "execution_count": 12,
      "outputs": [
        {
          "output_type": "stream",
          "text": [
            "(100480507, 2)\n"
          ],
          "name": "stdout"
        }
      ]
    },
    {
      "cell_type": "code",
      "metadata": {
        "id": "XjKSbGmR3z0r",
        "colab_type": "code",
        "colab": {
          "base_uri": "https://localhost:8080/",
          "height": 51
        },
        "outputId": "81d03a3d-e7ad-4128-913d-171802a2e267"
      },
      "source": [
        "#Adding movie ids to corresponding rows in the dataframe so as to have a cleaned dataset.\n",
        "#This is achieved by iterating through all the files and making a list of movie ids for\n",
        "#the respective customer id and rating line.\n",
        "#Then the whole list is added as a column to the main dataframe to get the desired dataset.\n",
        "\n",
        "\n",
        "dataSet = ['/content/drive/My Drive/combined_data_1.txt',\n",
        "           '/content/drive/My Drive/combined_data_2.txt',\n",
        "           '/content/drive/My Drive/combined_data_3.txt',\n",
        "           '/content/drive/My Drive/combined_data_4.txt',\n",
        "          ]\n",
        "\n",
        "x = 1\n",
        "movie_id = 0\n",
        "movie = []\n",
        "\n",
        "for file in dataSet:\n",
        "\n",
        "  handle = open(file)\n",
        "#Start of inner for loop.\n",
        "  for line in handle:\n",
        "    if line.startswith(str(x)+\":\"):\n",
        "      movie_id = x\n",
        "      x += 1\n",
        "      continue\n",
        "    movie.append(movie_id)\n",
        "#End of inner for loop.  \n",
        "  handle.close()\n",
        "  gc.collect()\n",
        "#End of outer for loop.\n",
        "\n",
        "print(df.shape,'\\n',len(movie))\n"
      ],
      "execution_count": 6,
      "outputs": [
        {
          "output_type": "stream",
          "text": [
            "(100498277, 2) \n",
            " 100480507\n"
          ],
          "name": "stdout"
        }
      ]
    },
    {
      "cell_type": "code",
      "metadata": {
        "id": "UFwVHog4MuMj",
        "colab_type": "code",
        "colab": {}
      },
      "source": [
        "df['Movies'] = movie\n",
        "del movie"
      ],
      "execution_count": 10,
      "outputs": []
    },
    {
      "cell_type": "code",
      "metadata": {
        "id": "6qXS5LHlTppZ",
        "colab_type": "code",
        "colab": {
          "base_uri": "https://localhost:8080/",
          "height": 34
        },
        "outputId": "7b6dea6d-5544-4ddb-c8fc-15d33e53057f"
      },
      "source": [
        "gc.collect()"
      ],
      "execution_count": 11,
      "outputs": [
        {
          "output_type": "execute_result",
          "data": {
            "text/plain": [
              "28"
            ]
          },
          "metadata": {
            "tags": []
          },
          "execution_count": 11
        }
      ]
    },
    {
      "cell_type": "code",
      "metadata": {
        "id": "KK_fxxBOMxmr",
        "colab_type": "code",
        "colab": {
          "base_uri": "https://localhost:8080/",
          "height": 391
        },
        "outputId": "3db3095d-597f-4eec-eb0d-dac28d21016a"
      },
      "source": [
        "print(df.iloc[::5000000, :])\n",
        "#print(df1.iloc[50:55])"
      ],
      "execution_count": 18,
      "outputs": [
        {
          "output_type": "stream",
          "text": [
            "           Cust_Id  Rating  Movies\n",
            "1          1488844     3.0       1\n",
            "5000996     501954     2.0     996\n",
            "10001962    404654     5.0    1962\n",
            "15002876    886608     2.0    2876\n",
            "20003825   1193835     2.0    3825\n",
            "25004661   1899206     3.0    4661\n",
            "30005496    154804     4.0    5496\n",
            "35006274   2078749     5.0    6274\n",
            "40007057    450763     5.0    7057\n",
            "45007991    102092     3.0    7991\n",
            "50009023    220298     5.0    9023\n",
            "55010042    550530     5.0   10042\n",
            "60011038    222570     3.0   11038\n",
            "65011875   1273080     5.0   11875\n",
            "70012676   2026970     5.0   12676\n",
            "75013582    506044     4.0   13582\n",
            "80014453    353605     2.0   14453\n",
            "85015116    664606     3.0   15116\n",
            "90016008   2213715     3.0   16008\n",
            "95016879   1589401     5.0   16879\n",
            "100017627  2314006     4.0   17627\n"
          ],
          "name": "stdout"
        }
      ]
    },
    {
      "cell_type": "code",
      "metadata": {
        "id": "W5D-YOFdRcq-",
        "colab_type": "code",
        "colab": {
          "base_uri": "https://localhost:8080/",
          "height": 309
        },
        "outputId": "29951e09-42c1-4abe-c062-c940125cbc86"
      },
      "source": [
        "#Installing surprise package to use the SVD function.\n",
        "!pip install surprise"
      ],
      "execution_count": 13,
      "outputs": [
        {
          "output_type": "stream",
          "text": [
            "Collecting surprise\n",
            "  Downloading https://files.pythonhosted.org/packages/61/de/e5cba8682201fcf9c3719a6fdda95693468ed061945493dea2dd37c5618b/surprise-0.1-py2.py3-none-any.whl\n",
            "Collecting scikit-surprise\n",
            "\u001b[?25l  Downloading https://files.pythonhosted.org/packages/97/37/5d334adaf5ddd65da99fc65f6507e0e4599d092ba048f4302fe8775619e8/scikit-surprise-1.1.1.tar.gz (11.8MB)\n",
            "\u001b[K     |████████████████████████████████| 11.8MB 260kB/s \n",
            "\u001b[?25hRequirement already satisfied: joblib>=0.11 in /usr/local/lib/python3.6/dist-packages (from scikit-surprise->surprise) (0.16.0)\n",
            "Requirement already satisfied: numpy>=1.11.2 in /usr/local/lib/python3.6/dist-packages (from scikit-surprise->surprise) (1.18.5)\n",
            "Requirement already satisfied: scipy>=1.0.0 in /usr/local/lib/python3.6/dist-packages (from scikit-surprise->surprise) (1.4.1)\n",
            "Requirement already satisfied: six>=1.10.0 in /usr/local/lib/python3.6/dist-packages (from scikit-surprise->surprise) (1.15.0)\n",
            "Building wheels for collected packages: scikit-surprise\n",
            "  Building wheel for scikit-surprise (setup.py) ... \u001b[?25l\u001b[?25hdone\n",
            "  Created wheel for scikit-surprise: filename=scikit_surprise-1.1.1-cp36-cp36m-linux_x86_64.whl size=1670943 sha256=0db1b2797fb1d0d4ed2a38ae3aefcaeffcb83ab3b2cff2b4377f2f79da0ce4c5\n",
            "  Stored in directory: /root/.cache/pip/wheels/78/9c/3d/41b419c9d2aff5b6e2b4c0fc8d25c538202834058f9ed110d0\n",
            "Successfully built scikit-surprise\n",
            "Installing collected packages: scikit-surprise, surprise\n",
            "Successfully installed scikit-surprise-1.1.1 surprise-0.1\n"
          ],
          "name": "stdout"
        }
      ]
    },
    {
      "cell_type": "code",
      "metadata": {
        "id": "sdMplEMNPjIz",
        "colab_type": "code",
        "colab": {}
      },
      "source": [
        "from surprise import Reader, Dataset, SVD\n",
        "from surprise.model_selection import cross_validate"
      ],
      "execution_count": 14,
      "outputs": []
    },
    {
      "cell_type": "code",
      "metadata": {
        "id": "Lngbpv8JT6e4",
        "colab_type": "code",
        "colab": {
          "base_uri": "https://localhost:8080/",
          "height": 34
        },
        "outputId": "4c8a845a-3170-41d8-8671-ecd66bcc9b6b"
      },
      "source": [
        "gc.collect()"
      ],
      "execution_count": 15,
      "outputs": [
        {
          "output_type": "execute_result",
          "data": {
            "text/plain": [
              "3373"
            ]
          },
          "metadata": {
            "tags": []
          },
          "execution_count": 15
        }
      ]
    },
    {
      "cell_type": "code",
      "metadata": {
        "id": "O-mxvD2OvGgc",
        "colab_type": "code",
        "colab": {}
      },
      "source": [
        "\n",
        "reader = Reader()\n",
        "\n",
        "# get just top 100K rows for faster run time\n",
        "data = Dataset.load_from_df(df[['Cust_Id', 'Movies', 'Rating']], reader)\n",
        "#data.split(n_folds=3)\n",
        "\n",
        "svd = SVD(n_epochs=5, verbose = True)\n",
        "cross_validate(svd, data, measures=['RMSE', 'MAE'])\n"
      ],
      "execution_count": null,
      "outputs": []
    },
    {
      "cell_type": "markdown",
      "metadata": {
        "id": "0Xt292ReUnzZ",
        "colab_type": "text"
      },
      "source": [
        "The SVD function in the surprise library has an improved cost function implementation and hence would result in better rmse. But due to the enormity of the dataset, it cannot run on colab and running the above cell crashes the runtime. \n",
        "\n",
        "\n",
        "> \n",
        "\n",
        "\n",
        "So, to train a model for collaborative filtering, matrix factorization is used below using the h2o4gpu library. But the cost function in this library is traditional one and will not result in optimum rmse."
      ]
    },
    {
      "cell_type": "markdown",
      "metadata": {
        "id": "ID15a_N6dgmW",
        "colab_type": "text"
      },
      "source": [
        "## **Collaborative Filtering using Matrix Factorization**\n",
        "\n",
        "Restart runtime before running and import the libraries in the first cell.\n",
        "**Testing scipy sparse matrix**"
      ]
    },
    {
      "cell_type": "code",
      "metadata": {
        "id": "HUYC4lbHRQC5",
        "colab_type": "code",
        "colab": {
          "base_uri": "https://localhost:8080/",
          "height": 102
        },
        "outputId": "72d56ed8-79cc-4791-c05a-06eb64268384"
      },
      "source": [
        "#By specifying a particular row and column and then the corresponding value\n",
        "#in another array, we can construct a sparse matrix using scipy.\n",
        "#The rows and columns which are not defined in the arrays have values zero.\n",
        "\n",
        "rows = [0,1,2,3,1,0]#Specifying rows.\n",
        "cols = [0,1,2,3,3,3]#Specifying columns.\n",
        "vals = [3,4,20,19,99,1]#Specifying corresponding values e.g value at row 1 colum 3 is 99.\n",
        "\n",
        "vals = np.array(vals, np.float32)\n",
        "cols = np.array(cols, np.int32)\n",
        "rows = np.array(rows, np.int32)\n",
        "\n",
        "#Constructing the sparse matrix. \n",
        "R = coo_matrix( ( vals, (rows,cols) ), shape = (4,4) )#.toarray()\n",
        "print(R.toarray())\n",
        "#type(R)\n",
        "#print('\\n',R[0][:]*R[1][:].T)\n",
        "print(\"nice\")\n"
      ],
      "execution_count": null,
      "outputs": [
        {
          "output_type": "stream",
          "text": [
            "[[ 3.  0.  0.  1.]\n",
            " [ 0.  4.  0. 99.]\n",
            " [ 0.  0. 20.  0.]\n",
            " [ 0.  0.  0. 19.]]\n",
            "nice\n"
          ],
          "name": "stdout"
        }
      ]
    },
    {
      "cell_type": "markdown",
      "metadata": {
        "id": "HIQQdCOeDbum",
        "colab_type": "text"
      },
      "source": [
        "**np**.**unique**"
      ]
    },
    {
      "cell_type": "code",
      "metadata": {
        "id": "OuKtWkbIs5fm",
        "colab_type": "code",
        "colab": {
          "base_uri": "https://localhost:8080/",
          "height": 51
        },
        "outputId": "b01e7faa-2466-4f2e-95ba-bbb050e114d0"
      },
      "source": [
        "#np.unique returns the unique elements of the array (sorted). If return_inverse\n",
        "#is true then it also returns the index form of the given array in which each\n",
        "#element is replaced by its index in the unique array.\n",
        "x = [1,2,3,4,4,3,2]\n",
        "x = np.array(x, np.int32)\n",
        "ar, indices = np.unique(x, return_inverse = True)\n",
        "\n",
        "print('unique sorted x: ', ar)\n",
        "print('index form of original x: ', indices)\n",
        "\n"
      ],
      "execution_count": null,
      "outputs": [
        {
          "output_type": "stream",
          "text": [
            "unique sorted x:  [1 2 3 4]\n",
            "index form of original x:  [0 1 2 3 3 2 1]\n"
          ],
          "name": "stdout"
        }
      ]
    },
    {
      "cell_type": "markdown",
      "metadata": {
        "id": "P7lBWfIwDi6B",
        "colab_type": "text"
      },
      "source": [
        "**Using Scikit Learn for Matrix Factorization**"
      ]
    },
    {
      "cell_type": "code",
      "metadata": {
        "id": "i_TM807RzhAT",
        "colab_type": "code",
        "colab": {
          "base_uri": "https://localhost:8080/",
          "height": 221
        },
        "outputId": "3117a639-3d56-459d-c5bb-e55198458c02"
      },
      "source": [
        "#from sklearn.decomposition import NMF\n",
        "'''\n",
        "R = [[ 3.  0.  0.  1.]\n",
        " [ 0.  4.  0. 99.]\n",
        " [ 0.  0. 20.  0.]\n",
        " [ 0.  0.  0. 19.]]\n",
        "R = np.array(R)\n",
        "'''\n",
        "print(R,\"\\n\\n\")\n",
        "nmf = NMF(1000, init='random', max_iter=2000, random_state=0,tol=0.001)\n",
        "\n",
        "W = nmf.fit_transform(R);\n",
        "H = nmf.components_;\n",
        "nR = np.dot(W,H)\n",
        "print (nR)"
      ],
      "execution_count": null,
      "outputs": [
        {
          "output_type": "stream",
          "text": [
            "  (0, 0)\t3.0\n",
            "  (1, 1)\t4.0\n",
            "  (2, 2)\t20.0\n",
            "  (3, 3)\t19.0\n",
            "  (1, 3)\t99.0\n",
            "  (0, 3)\t1.0 \n",
            "\n",
            "\n",
            "[[3.00000000e+00 1.12460815e-16 0.00000000e+00 1.00000000e+00]\n",
            " [0.00000000e+00 4.00000000e+00 0.00000000e+00 9.90000000e+01]\n",
            " [0.00000000e+00 4.14832442e-16 2.00000000e+01 2.90436701e-15]\n",
            " [8.78143080e-16 4.60196649e-01 0.00000000e+00 1.90000000e+01]]\n"
          ],
          "name": "stdout"
        }
      ]
    },
    {
      "cell_type": "code",
      "metadata": {
        "id": "Hw5P1KQPzhnB",
        "colab_type": "code",
        "colab": {
          "base_uri": "https://localhost:8080/",
          "height": 51
        },
        "outputId": "92172b58-5657-4db7-d706-5bb9c1d66c1d"
      },
      "source": [
        "print(W.shape,'\\n',H.shape)"
      ],
      "execution_count": null,
      "outputs": [
        {
          "output_type": "stream",
          "text": [
            "(4, 1000) \n",
            " (1000, 4)\n"
          ],
          "name": "stdout"
        }
      ]
    },
    {
      "cell_type": "markdown",
      "metadata": {
        "id": "qOOy50BPCsSF",
        "colab_type": "text"
      },
      "source": [
        "Scikit learn does not deal with the missing values (zeros) and predicts them to be zeros. The purpose of matrix factorization for collaborative filtering is to get these missing values which are the unknown ratings. So, we cannot use scikit learn."
      ]
    },
    {
      "cell_type": "code",
      "metadata": {
        "id": "G5rGqW8rDc3G",
        "colab_type": "code",
        "colab": {
          "base_uri": "https://localhost:8080/",
          "height": 391
        },
        "outputId": "e93e17de-4f9b-4561-e995-f049be203ff0"
      },
      "source": [
        "#Installing h2o4gpu.\n",
        "!apt-get install -y libopenblas-dev pbzip2\n",
        "!pip install -U tabulate==0.8.2\n",
        "!pip install h2o4gpu\n",
        "import h2o4gpu"
      ],
      "execution_count": null,
      "outputs": [
        {
          "output_type": "stream",
          "text": [
            "Reading package lists... Done\n",
            "Building dependency tree       \n",
            "Reading state information... Done\n",
            "libopenblas-dev is already the newest version (0.2.20+ds-4).\n",
            "pbzip2 is already the newest version (1.1.9-1build1).\n",
            "The following package was automatically installed and is no longer required:\n",
            "  libnvidia-common-440\n",
            "Use 'apt autoremove' to remove it.\n",
            "0 upgraded, 0 newly installed, 0 to remove and 39 not upgraded.\n",
            "Requirement already up-to-date: tabulate==0.8.2 in /usr/local/lib/python3.6/dist-packages (0.8.2)\n",
            "Requirement already satisfied: h2o4gpu in /usr/local/lib/python3.6/dist-packages (0.4.1)\n",
            "Requirement already satisfied: scikit-learn==0.21.2 in /usr/local/lib/python3.6/dist-packages (from h2o4gpu) (0.21.2)\n",
            "Requirement already satisfied: python-dateutil>=2.7.2 in /usr/local/lib/python3.6/dist-packages (from h2o4gpu) (2.8.1)\n",
            "Requirement already satisfied: pandas>=0.24.2 in /usr/local/lib/python3.6/dist-packages (from h2o4gpu) (1.0.5)\n",
            "Requirement already satisfied: numpy>=1.16.4 in /usr/local/lib/python3.6/dist-packages (from h2o4gpu) (1.18.5)\n",
            "Requirement already satisfied: future>=0.16.0 in /usr/local/lib/python3.6/dist-packages (from h2o4gpu) (0.16.0)\n",
            "Requirement already satisfied: psutil>=5.6.3 in /usr/local/lib/python3.6/dist-packages (from h2o4gpu) (5.7.2)\n",
            "Requirement already satisfied: pytz>=2018.4 in /usr/local/lib/python3.6/dist-packages (from h2o4gpu) (2018.9)\n",
            "Requirement already satisfied: joblib>=0.14.0 in /usr/local/lib/python3.6/dist-packages (from h2o4gpu) (0.16.0)\n",
            "Requirement already satisfied: tabulate>=0.8.2 in /usr/local/lib/python3.6/dist-packages (from h2o4gpu) (0.8.2)\n",
            "Requirement already satisfied: scipy>=1.3.1 in /usr/local/lib/python3.6/dist-packages (from h2o4gpu) (1.4.1)\n",
            "Requirement already satisfied: six>=1.5 in /usr/local/lib/python3.6/dist-packages (from python-dateutil>=2.7.2->h2o4gpu) (1.15.0)\n"
          ],
          "name": "stdout"
        }
      ]
    },
    {
      "cell_type": "code",
      "metadata": {
        "id": "YqlZyaGfDRWj",
        "colab_type": "code",
        "colab": {}
      },
      "source": [
        ""
      ],
      "execution_count": null,
      "outputs": []
    },
    {
      "cell_type": "markdown",
      "metadata": {
        "id": "oFPcIGNFD1Zb",
        "colab_type": "text"
      },
      "source": [
        "**Using h2o4gpu for Matrix Factorization**"
      ]
    },
    {
      "cell_type": "code",
      "metadata": {
        "id": "OVFrz621DR8I",
        "colab_type": "code",
        "colab": {
          "base_uri": "https://localhost:8080/",
          "height": 425
        },
        "outputId": "0e217889-026d-41d0-dca9-683f4bfdb5a1"
      },
      "source": [
        "#from sklearn.model_selection import train_test_split\n",
        "\n",
        "#from scipy.sparse import csr_matrix\n",
        "'''\n",
        "R = [\n",
        "     [5,3,0,1],\n",
        "     [4,0,0,1],\n",
        "     [1,1,0,5],\n",
        "     [1,0,0,4],\n",
        "     [0,1,5,4],\n",
        "    ]\n",
        "#R = np.array(R)\n",
        "#print(R)\n",
        "#R = coo_matrix(R)\n",
        "'''\n",
        "\n",
        "rows = [0,0,0, 1,1, 2,2,2, 3,3, 4,4,4]\n",
        "cols = [0,1,3, 0,3, 0,1,3, 0,3, 1,2,3]\n",
        "vals = [5,3,1, 4,1, 1,1,5, 1,4, 1,5,4]\n",
        "\n",
        "vals = np.array(vals, dtype= np.float32)\n",
        "cols = np.array(cols, dtype= np.int32)\n",
        "rows = np.array(rows)\n",
        "\n",
        "R = coo_matrix((vals ,(rows, cols)), shape = (5,4)  )\n",
        "\n",
        "#####Make sparse matrix from scratch#####\n",
        "\n",
        "print(\"Splitting the data\\n\")\n",
        "print(type(R))\n",
        "\n",
        "train_row, test_row, train_col, test_col, train_data, test_data = train_test_split(R.row, R.col, R.data, test_size = 0.2, random_state = 44)\n",
        "train = coo_matrix( (train_data, (train_row, train_col)), shape = (5,4) )\n",
        "test = coo_matrix( (test_data, (test_row, test_col)), shape = (5,4) )\n",
        "\n",
        "print(\"R:\\n\",R.toarray())\n",
        "print(\"\\nR_train:\\n\", train.toarray())\n",
        "print(\"\\nR_test:\\n\", test.toarray())\n",
        "type(train)\n",
        "#type(test)\n",
        "\n",
        "#del train,test,R"
      ],
      "execution_count": null,
      "outputs": [
        {
          "output_type": "stream",
          "text": [
            "Splitting the data\n",
            "\n",
            "<class 'scipy.sparse.coo.coo_matrix'>\n",
            "R:\n",
            " [[5. 3. 0. 1.]\n",
            " [4. 0. 0. 1.]\n",
            " [1. 1. 0. 5.]\n",
            " [1. 0. 0. 4.]\n",
            " [0. 1. 5. 4.]]\n",
            "\n",
            "R_train:\n",
            " [[5. 3. 0. 1.]\n",
            " [4. 0. 0. 1.]\n",
            " [0. 1. 0. 0.]\n",
            " [1. 0. 0. 4.]\n",
            " [0. 0. 5. 4.]]\n",
            "\n",
            "R_test:\n",
            " [[0. 0. 0. 0.]\n",
            " [0. 0. 0. 0.]\n",
            " [1. 0. 0. 5.]\n",
            " [0. 0. 0. 0.]\n",
            " [0. 1. 0. 0.]]\n"
          ],
          "name": "stdout"
        },
        {
          "output_type": "execute_result",
          "data": {
            "text/plain": [
              "scipy.sparse.coo.coo_matrix"
            ]
          },
          "metadata": {
            "tags": []
          },
          "execution_count": 10
        }
      ]
    },
    {
      "cell_type": "code",
      "metadata": {
        "id": "eDGhNoNEIlJC",
        "colab_type": "code",
        "colab": {
          "base_uri": "https://localhost:8080/",
          "height": 221
        },
        "outputId": "85582f52-e48d-4109-81bc-362861c9e2ce"
      },
      "source": [
        "\n",
        "features = 30\n",
        "batches = 1\n",
        "lmbda = 0.1\n",
        "scores = []\n",
        "\n",
        "factorization = h2o4gpu.solvers.FactorizationH2O(features, lmbda, max_iter = 20)\n",
        "\n",
        "print(factorization.dtype)\n",
        "\n",
        "factorization.fit( train, X_test= test, verbose = True, early_stopping_rounds= 5 )\n",
        "\n",
        "\n",
        "type(factorization.thetaT)\n",
        "print(factorization.thetaT.shape,'\\n',factorization.XT.shape)\n"
      ],
      "execution_count": null,
      "outputs": [
        {
          "output_type": "stream",
          "text": [
            "<class 'numpy.float32'>\n",
            "iteration 0 train: 0.36212393641471863 cv: 2.5662426948547363\n",
            "iteration 1 train: 0.24573847651481628 cv: 2.4999542236328125\n",
            "iteration 2 train: 0.2048846036195755 cv: 2.679933786392212\n",
            "iteration 3 train: 0.1821260303258896 cv: 2.696864128112793\n",
            "iteration 4 train: 0.1680992990732193 cv: 2.7147746086120605\n",
            "iteration 5 train: 0.159223735332489 cv: 2.756368398666382\n",
            "iteration 6 train: 0.15344418585300446 cv: 2.7689859867095947\n",
            "iteration 7 train: 0.14871618151664734 cv: 2.7762818336486816\n",
            "best iteration:1 train: 0.24573847651481628 cv: 2.4999542236328125\n",
            "(4, 30) \n",
            " (5, 30)\n"
          ],
          "name": "stdout"
        }
      ]
    },
    {
      "cell_type": "code",
      "metadata": {
        "id": "MdW6eOBnu1Bi",
        "colab_type": "code",
        "colab": {
          "base_uri": "https://localhost:8080/",
          "height": 136
        },
        "outputId": "077c2dd0-655a-45b7-f569-aa69f580477d"
      },
      "source": [
        "print('Approximated R:\\n\\n', np.dot(factorization.XT, factorization.thetaT.T) )\n"
      ],
      "execution_count": null,
      "outputs": [
        {
          "output_type": "stream",
          "text": [
            "Approximated R:\n",
            "\n",
            " [[4.7711444  2.867989   1.6241543  0.9808193 ]\n",
            " [3.8261504  2.2702065  1.5287249  0.9716469 ]\n",
            " [1.5567601  0.949642   0.42473698 0.23387425]\n",
            " [0.9429118  0.00581822 4.682519   3.751868  ]\n",
            " [2.0354273  0.6880902  4.860801   3.817715  ]]\n"
          ],
          "name": "stdout"
        }
      ]
    },
    {
      "cell_type": "markdown",
      "metadata": {
        "id": "WVl8-cPDw4Ae",
        "colab_type": "text"
      },
      "source": [
        "So, h2o4gpu does deal with the missing values and so is suitable for collaborative filtering."
      ]
    },
    {
      "cell_type": "code",
      "metadata": {
        "id": "YuNAvFyAN6xw",
        "colab_type": "code",
        "colab": {
          "base_uri": "https://localhost:8080/",
          "height": 136
        },
        "outputId": "2896f0eb-f7e1-4798-b5b8-dfb22ed9a011"
      },
      "source": [
        "#import gc\n",
        "#import numpy as np\n",
        "#import scipy\n",
        "#from sklearn.model_selection import train_test_split\n",
        "\n",
        "dataset = [\n",
        "    '/content/drive/My Drive/combined_data_1.txt',\n",
        "    '/content/drive/My Drive/combined_data_2.txt',\n",
        "    '/content/drive/My Drive/combined_data_3.txt',\n",
        "    '/content/drive/My Drive/combined_data_4.txt',\n",
        "]\n",
        "\n",
        "rows = []\n",
        "columns = []\n",
        "values = []\n",
        "\n",
        "for file in dataset:\n",
        "  \n",
        "    print('processing ',file)\n",
        "    with open(file, \"r\") as data:\n",
        "        movie = -1\n",
        "        for line in data:\n",
        "            if line.endswith(':\\n'):\n",
        "                movie = int(line.split(':')[0])-1   #int(line[:-2]) - 1\n",
        "                continue\n",
        "            assert movie >= 0\n",
        "            line_as_list = line.split(',')\n",
        "            user = int(line_as_list[0])\n",
        "            rating = float(line_as_list[1])\n",
        "            rows.append(user)\n",
        "            columns.append(movie)\n",
        "            values.append(rating)\n",
        "    gc.collect()\n",
        "\n",
        "print('Forming scipy.sparse.coo_matrix')\n",
        "\n",
        "values = np.array(values, dtype=np.float32)\n",
        "columns = np.array(columns, dtype=np.int32)\n",
        "rows = np.array(rows)\n",
        "\n",
        "#np.unique returns the unique elements of the array (sorted). If return_inverse\n",
        "#is true then it also returns the index form of the given array in which each\n",
        "#element is replaced by its index in the unique array.\n",
        "\n",
        "user, indices = np.unique(rows, return_inverse=True)\n",
        "user = user.astype(np.int32)\n",
        "\n",
        "gc.collect()\n",
        "\n",
        "#Constructing the sparse matrix.\n",
        "user_item_matrix = scipy.sparse.coo_matrix((values, (indices, columns)))\n",
        "\n",
        "shape = user_item_matrix.shape\n",
        "print('User-Item matrix size', shape)\n",
        "\n",
        "gc.collect()"
      ],
      "execution_count": null,
      "outputs": [
        {
          "output_type": "stream",
          "text": [
            "processing  /content/drive/My Drive/combined_data_1.txt\n",
            "processing  /content/drive/My Drive/combined_data_2.txt\n",
            "processing  /content/drive/My Drive/combined_data_3.txt\n",
            "processing  /content/drive/My Drive/combined_data_4.txt\n",
            "Forming scipy.sparse.coo_matrix\n",
            "User-Item matrix size (480189, 17770)\n"
          ],
          "name": "stdout"
        },
        {
          "output_type": "execute_result",
          "data": {
            "text/plain": [
              "0"
            ]
          },
          "metadata": {
            "tags": []
          },
          "execution_count": 2
        }
      ]
    },
    {
      "cell_type": "code",
      "metadata": {
        "id": "tl3RTsuOFdOP",
        "colab_type": "code",
        "colab": {
          "base_uri": "https://localhost:8080/",
          "height": 34
        },
        "outputId": "03670ad2-d34d-4803-e820-ff9fb167ea10"
      },
      "source": [
        "print(type(user_item_matrix))"
      ],
      "execution_count": null,
      "outputs": [
        {
          "output_type": "stream",
          "text": [
            "<class 'scipy.sparse.coo.coo_matrix'>\n"
          ],
          "name": "stdout"
        }
      ]
    },
    {
      "cell_type": "code",
      "metadata": {
        "id": "m518ON1FFlIG",
        "colab_type": "code",
        "colab": {
          "base_uri": "https://localhost:8080/",
          "height": 34
        },
        "outputId": "93e1d3a9-0298-4a3f-9373-cbf808740bfd"
      },
      "source": [
        "print('splitting into training and test set')\n",
        "train_row, test_row, train_col, test_col, train_data, test_data = train_test_split(\n",
        "    user_item_matrix.row, user_item_matrix.col, user_item_matrix.data, test_size=0.2, random_state=44)\n",
        "\n",
        "train = scipy.sparse.coo_matrix( (train_data, (train_row, train_col)), shape=shape)\n",
        "test = scipy.sparse.coo_matrix( (test_data, (test_row, test_col)), shape=shape)"
      ],
      "execution_count": null,
      "outputs": [
        {
          "output_type": "stream",
          "text": [
            "splitting into training and test set\n"
          ],
          "name": "stdout"
        }
      ]
    },
    {
      "cell_type": "code",
      "metadata": {
        "id": "vtYSDx0SUlIG",
        "colab_type": "code",
        "colab": {
          "base_uri": "https://localhost:8080/",
          "height": 51
        },
        "outputId": "3250347d-1945-4199-b7e5-450f47f31f83"
      },
      "source": [
        "print(\"Train shape: \",train.shape,\"\\nTest shape: \",test.shape)"
      ],
      "execution_count": null,
      "outputs": [
        {
          "output_type": "stream",
          "text": [
            "Train shape:  (480189, 17770) \n",
            "Test shape:  (480189, 17770)\n"
          ],
          "name": "stdout"
        }
      ]
    },
    {
      "cell_type": "code",
      "metadata": {
        "id": "1CZ43LZZVMqk",
        "colab_type": "code",
        "colab": {
          "base_uri": "https://localhost:8080/",
          "height": 34
        },
        "outputId": "ec59189f-c058-4ba6-8c51-0a4820be7a3b"
      },
      "source": [
        "type(test)"
      ],
      "execution_count": null,
      "outputs": [
        {
          "output_type": "execute_result",
          "data": {
            "text/plain": [
              "scipy.sparse.coo.coo_matrix"
            ]
          },
          "metadata": {
            "tags": []
          },
          "execution_count": 48
        }
      ]
    },
    {
      "cell_type": "code",
      "metadata": {
        "id": "3PqhdVuYJG3M",
        "colab_type": "code",
        "colab": {
          "base_uri": "https://localhost:8080/",
          "height": 289
        },
        "outputId": "eab6f2c7-4ff5-426d-8b4b-4208473cc456"
      },
      "source": [
        "features = 10\n",
        "\n",
        "lmbda = 1 #Regularization parameter lambda.\n",
        "# increase it in case out-of GPU memory, but n_components / BATCHES has to be a multiple of 10\n",
        "BATCHES = 1\n",
        "\n",
        "\n",
        "\n",
        "scores = []\n",
        "factorization = h2o4gpu.solvers.FactorizationH2O(features, lmbda, max_iter=50)\n",
        "factorization.fit(train, X_test=test, X_BATCHES=BATCHES, THETA_BATCHES=BATCHES, scores=scores, verbose=True, early_stopping_rounds=5)\n",
        "print('best iteration:',factorization.best_iteration)"
      ],
      "execution_count": null,
      "outputs": [
        {
          "output_type": "stream",
          "text": [
            "iteration 0 train: 1.3794498443603516 cv: 1.3828246593475342\n",
            "iteration 1 train: 1.362408995628357 cv: 1.3655656576156616\n",
            "iteration 2 train: 1.3596627712249756 cv: 1.3628290891647339\n",
            "iteration 3 train: 1.3591103553771973 cv: 1.3622788190841675\n",
            "iteration 4 train: 1.3589965105056763 cv: 1.3621654510498047\n",
            "iteration 5 train: 1.358972191810608 cv: 1.3621413707733154\n",
            "iteration 6 train: 1.3589680194854736 cv: 1.3621371984481812\n",
            "iteration 7 train: 1.358967661857605 cv: 1.362136721611023\n",
            "iteration 8 train: 1.3589680194854736 cv: 1.3621370792388916\n",
            "iteration 9 train: 1.3589677810668945 cv: 1.362136721611023\n",
            "iteration 10 train: 1.3589677810668945 cv: 1.3621368408203125\n",
            "iteration 11 train: 1.3589677810668945 cv: 1.3621368408203125\n",
            "iteration 12 train: 1.3589677810668945 cv: 1.3621368408203125\n",
            "iteration 13 train: 1.358967900276184 cv: 1.362136960029602\n",
            "best iteration:7 train: 1.358967661857605 cv: 1.362136721611023\n",
            "best iteration: 7\n"
          ],
          "name": "stdout"
        }
      ]
    },
    {
      "cell_type": "code",
      "metadata": {
        "id": "_lI55CfCJUi5",
        "colab_type": "code",
        "colab": {
          "base_uri": "https://localhost:8080/",
          "height": 289
        },
        "outputId": "9ee70df0-3a78-4280-b017-fdb7a04b285a"
      },
      "source": [
        "features = 10\n",
        "\n",
        "lmbda = 0.9\n",
        "# increase it in case out-of GPU memory, but n_components / BATCHES has to be a multiple of 10\n",
        "BATCHES=1\n",
        "\n",
        "\n",
        "\n",
        "scores = []\n",
        "factorization = h2o4gpu.solvers.FactorizationH2O(features, lmbda, max_iter=50)\n",
        "factorization.fit(train, X_test=test, X_BATCHES=BATCHES, THETA_BATCHES=BATCHES, scores=scores, verbose=True, early_stopping_rounds=5)\n",
        "print('best iteration:',factorization.best_iteration)"
      ],
      "execution_count": null,
      "outputs": [
        {
          "output_type": "stream",
          "text": [
            "iteration 0 train: 1.2966309785842896 cv: 1.300516128540039\n",
            "iteration 1 train: 1.288570523262024 cv: 1.2921522855758667\n",
            "iteration 2 train: 1.287410020828247 cv: 1.2909936904907227\n",
            "iteration 3 train: 1.2871254682540894 cv: 1.290710210800171\n",
            "iteration 4 train: 1.287052035331726 cv: 1.2906370162963867\n",
            "iteration 5 train: 1.2870326042175293 cv: 1.290617823600769\n",
            "iteration 6 train: 1.2870279550552368 cv: 1.290613055229187\n",
            "iteration 7 train: 1.2870270013809204 cv: 1.2906122207641602\n",
            "iteration 8 train: 1.287027359008789 cv: 1.2906125783920288\n",
            "iteration 9 train: 1.2870272397994995 cv: 1.2906124591827393\n",
            "iteration 10 train: 1.2870272397994995 cv: 1.2906124591827393\n",
            "iteration 11 train: 1.2870272397994995 cv: 1.2906124591827393\n",
            "iteration 12 train: 1.2870272397994995 cv: 1.2906124591827393\n",
            "iteration 13 train: 1.2870272397994995 cv: 1.2906124591827393\n",
            "best iteration:7 train: 1.2870270013809204 cv: 1.2906122207641602\n",
            "best iteration: 7\n"
          ],
          "name": "stdout"
        }
      ]
    },
    {
      "cell_type": "markdown",
      "metadata": {
        "id": "J-SqRVzr3UtS",
        "colab_type": "text"
      },
      "source": [
        "**Features = 10, Lambda = 0.1**\n"
      ]
    },
    {
      "cell_type": "code",
      "metadata": {
        "id": "Me2ZwLD122Pb",
        "colab_type": "code",
        "colab": {
          "base_uri": "https://localhost:8080/",
          "height": 408
        },
        "outputId": "65ed38a6-1ca2-48e1-8e87-10e06d9b5501"
      },
      "source": [
        "features = 10\n",
        "\n",
        "lmbda = 0.1\n",
        "# increase it in case out-of GPU memory, but n_components / BATCHES has to be a multiple of 10\n",
        "BATCHES=1\n",
        "\n",
        "\n",
        "\n",
        "scores = []\n",
        "factorization = h2o4gpu.solvers.FactorizationH2O(features, lmbda, max_iter=50)\n",
        "factorization.fit(train, X_test=test, X_BATCHES=BATCHES, THETA_BATCHES=BATCHES, scores=scores, verbose=True, early_stopping_rounds=5)\n",
        "print('best iteration:',factorization.best_iteration)"
      ],
      "execution_count": null,
      "outputs": [
        {
          "output_type": "stream",
          "text": [
            "iteration 0 train: 0.9209076762199402 cv: 0.9342684149742126\n",
            "iteration 1 train: 0.8983924388885498 cv: 0.9096971750259399\n",
            "iteration 2 train: 0.8691772222518921 cv: 0.8835955858230591\n",
            "iteration 3 train: 0.8589157462120056 cv: 0.8751086592674255\n",
            "iteration 4 train: 0.8531450629234314 cv: 0.870635986328125\n",
            "iteration 5 train: 0.849221408367157 cv: 0.867718517780304\n",
            "iteration 6 train: 0.8467674255371094 cv: 0.8659597635269165\n",
            "iteration 7 train: 0.845411479473114 cv: 0.8650335669517517\n",
            "iteration 8 train: 0.8446244597434998 cv: 0.8645270466804504\n",
            "iteration 9 train: 0.8440980911254883 cv: 0.864207923412323\n",
            "iteration 10 train: 0.8437188267707825 cv: 0.8639912605285645\n",
            "iteration 11 train: 0.8434510827064514 cv: 0.8638489246368408\n",
            "iteration 12 train: 0.8432750105857849 cv: 0.863765299320221\n",
            "iteration 13 train: 0.8431692719459534 cv: 0.8637251257896423\n",
            "iteration 14 train: 0.8431124091148376 cv: 0.863713800907135\n",
            "iteration 15 train: 0.8430876135826111 cv: 0.863720715045929\n",
            "iteration 16 train: 0.8430820107460022 cv: 0.8637374639511108\n",
            "iteration 17 train: 0.8430873155593872 cv: 0.8637590408325195\n",
            "iteration 18 train: 0.8430991768836975 cv: 0.8637829422950745\n",
            "iteration 19 train: 0.8431137800216675 cv: 0.8638070821762085\n",
            "iteration 20 train: 0.8431296348571777 cv: 0.8638303875923157\n",
            "best iteration:14 train: 0.8431124091148376 cv: 0.863713800907135\n",
            "best iteration: 14\n"
          ],
          "name": "stdout"
        }
      ]
    },
    {
      "cell_type": "markdown",
      "metadata": {
        "id": "qAxkdxf_3hgl",
        "colab_type": "text"
      },
      "source": [
        "**Features = 20, Lambda = 0.1**"
      ]
    },
    {
      "cell_type": "code",
      "metadata": {
        "id": "waPgCI3iPask",
        "colab_type": "code",
        "colab": {
          "base_uri": "https://localhost:8080/",
          "height": 884
        },
        "outputId": "70e7b5e3-adb0-4844-ebdb-b869ef1e936e"
      },
      "source": [
        "features = 20\n",
        "\n",
        "lmbda = 0.1\n",
        "# increase it in case out-of GPU memory, but n_components / BATCHES has to be a multiple of 10\n",
        "BATCHES=1\n",
        "\n",
        "\n",
        "\n",
        "scores = []\n",
        "factorization = h2o4gpu.solvers.FactorizationH2O(features, lmbda, max_iter=50)\n",
        "factorization.fit(train, X_test=test, X_BATCHES=BATCHES, THETA_BATCHES=BATCHES, scores=scores, verbose=True, early_stopping_rounds=5)\n",
        "print('best iteration:',factorization.best_iteration)"
      ],
      "execution_count": null,
      "outputs": [
        {
          "output_type": "stream",
          "text": [
            "iteration 0 train: 0.922046959400177 cv: 0.941326379776001\n",
            "iteration 1 train: 0.8939289450645447 cv: 0.9083305597305298\n",
            "iteration 2 train: 0.8679646849632263 cv: 0.8847139477729797\n",
            "iteration 3 train: 0.858080267906189 cv: 0.8763487339019775\n",
            "iteration 4 train: 0.852331817150116 cv: 0.8717412948608398\n",
            "iteration 5 train: 0.8487703800201416 cv: 0.8689836859703064\n",
            "iteration 6 train: 0.8467338681221008 cv: 0.8674196004867554\n",
            "iteration 7 train: 0.8454866409301758 cv: 0.8664594292640686\n",
            "iteration 8 train: 0.8446215391159058 cv: 0.8657926917076111\n",
            "iteration 9 train: 0.8439647555351257 cv: 0.8652862906455994\n",
            "iteration 10 train: 0.84344083070755 cv: 0.8648819923400879\n",
            "iteration 11 train: 0.8430122137069702 cv: 0.8645504117012024\n",
            "iteration 12 train: 0.8426559567451477 cv: 0.864273726940155\n",
            "iteration 13 train: 0.8423569798469543 cv: 0.8640406727790833\n",
            "iteration 14 train: 0.8421044945716858 cv: 0.8638429641723633\n",
            "iteration 15 train: 0.8418903946876526 cv: 0.8636742830276489\n",
            "iteration 16 train: 0.8417076468467712 cv: 0.8635298609733582\n",
            "iteration 17 train: 0.8415513634681702 cv: 0.8634055256843567\n",
            "iteration 18 train: 0.8414165377616882 cv: 0.8632981181144714\n",
            "iteration 19 train: 0.8412998914718628 cv: 0.863204836845398\n",
            "iteration 20 train: 0.8411983847618103 cv: 0.8631234169006348\n",
            "iteration 21 train: 0.8411098718643188 cv: 0.8630524277687073\n",
            "iteration 22 train: 0.8410319685935974 cv: 0.8629897832870483\n",
            "iteration 23 train: 0.8409633040428162 cv: 0.8629348874092102\n",
            "iteration 24 train: 0.8409026265144348 cv: 0.8628862500190735\n",
            "iteration 25 train: 0.8408490419387817 cv: 0.86284339427948\n",
            "iteration 26 train: 0.8408012390136719 cv: 0.8628052473068237\n",
            "iteration 27 train: 0.8407588601112366 cv: 0.8627715110778809\n",
            "iteration 28 train: 0.840721070766449 cv: 0.8627414703369141\n",
            "iteration 29 train: 0.8406873941421509 cv: 0.8627148866653442\n",
            "iteration 30 train: 0.8406571745872498 cv: 0.8626911044120789\n",
            "iteration 31 train: 0.8406298756599426 cv: 0.8626697063446045\n",
            "iteration 32 train: 0.8406053781509399 cv: 0.8626506924629211\n",
            "iteration 33 train: 0.8405835628509521 cv: 0.8626337647438049\n",
            "iteration 34 train: 0.8405637741088867 cv: 0.8626185655593872\n",
            "iteration 35 train: 0.8405460119247437 cv: 0.8626049160957336\n",
            "iteration 36 train: 0.84052973985672 cv: 0.8625925779342651\n",
            "iteration 37 train: 0.8405151963233948 cv: 0.8625816106796265\n",
            "iteration 38 train: 0.840502142906189 cv: 0.8625718355178833\n",
            "iteration 39 train: 0.8404899835586548 cv: 0.8625628352165222\n",
            "iteration 40 train: 0.8404789566993713 cv: 0.8625547289848328\n",
            "iteration 41 train: 0.8404689431190491 cv: 0.8625473976135254\n",
            "iteration 42 train: 0.8404597043991089 cv: 0.8625408411026001\n",
            "iteration 43 train: 0.840451180934906 cv: 0.862534761428833\n",
            "iteration 44 train: 0.84044349193573 cv: 0.8625293374061584\n",
            "iteration 45 train: 0.8404361605644226 cv: 0.8625243902206421\n",
            "iteration 46 train: 0.840429425239563 cv: 0.8625196814537048\n",
            "iteration 47 train: 0.8404232859611511 cv: 0.8625155687332153\n",
            "iteration 48 train: 0.8404175043106079 cv: 0.8625116944313049\n",
            "iteration 49 train: 0.8404121398925781 cv: 0.8625081777572632\n",
            "best iteration: 49\n"
          ],
          "name": "stdout"
        }
      ]
    },
    {
      "cell_type": "markdown",
      "metadata": {
        "id": "vCCSHAXx3yrx",
        "colab_type": "text"
      },
      "source": [
        "**Features = 30, Lambda = 0.1**"
      ]
    },
    {
      "cell_type": "code",
      "metadata": {
        "id": "k2nAYorEP0CU",
        "colab_type": "code",
        "colab": {
          "base_uri": "https://localhost:8080/",
          "height": 884
        },
        "outputId": "c4306755-c6dd-499e-9765-a14b21dcd458"
      },
      "source": [
        "features = 30\n",
        "\n",
        "lmbda = 0.1\n",
        "# increase it in case out-of GPU memory, but n_components / BATCHES has to be a multiple of 10\n",
        "BATCHES=1\n",
        "\n",
        "scores = []\n",
        "factorization = h2o4gpu.solvers.FactorizationH2O(features, lmbda, max_iter=50)\n",
        "factorization.fit(train, X_test=test, X_BATCHES=BATCHES, THETA_BATCHES=BATCHES, scores=scores, verbose=True, early_stopping_rounds=5)\n",
        "print('best iteration:',factorization.best_iteration)"
      ],
      "execution_count": null,
      "outputs": [
        {
          "output_type": "stream",
          "text": [
            "iteration 0 train: 0.9271710515022278 cv: 0.9509572386741638\n",
            "iteration 1 train: 0.8925923705101013 cv: 0.9093681573867798\n",
            "iteration 2 train: 0.8699245452880859 cv: 0.8883312940597534\n",
            "iteration 3 train: 0.8594346642494202 cv: 0.8792544603347778\n",
            "iteration 4 train: 0.853863000869751 cv: 0.8745435476303101\n",
            "iteration 5 train: 0.8504490256309509 cv: 0.8716713786125183\n",
            "iteration 6 train: 0.8482115864753723 cv: 0.8697755932807922\n",
            "iteration 7 train: 0.8466642498970032 cv: 0.8684459328651428\n",
            "iteration 8 train: 0.8455336689949036 cv: 0.8674584031105042\n",
            "iteration 9 train: 0.8446744084358215 cv: 0.8666942715644836\n",
            "iteration 10 train: 0.8440025448799133 cv: 0.8660857677459717\n",
            "iteration 11 train: 0.8434651494026184 cv: 0.8655906319618225\n",
            "iteration 12 train: 0.8430265188217163 cv: 0.8651809692382812\n",
            "iteration 13 train: 0.8426626324653625 cv: 0.8648372292518616\n",
            "iteration 14 train: 0.8423563838005066 cv: 0.8645455837249756\n",
            "iteration 15 train: 0.8420956134796143 cv: 0.8642961978912354\n",
            "iteration 16 train: 0.8418716788291931 cv: 0.8640809655189514\n",
            "iteration 17 train: 0.8416779041290283 cv: 0.8638944625854492\n",
            "iteration 18 train: 0.8415094017982483 cv: 0.8637321591377258\n",
            "iteration 19 train: 0.8413621187210083 cv: 0.8635901212692261\n",
            "iteration 20 train: 0.8412331342697144 cv: 0.8634656667709351\n",
            "iteration 21 train: 0.8411195278167725 cv: 0.8633564114570618\n",
            "iteration 22 train: 0.8410197496414185 cv: 0.8632603883743286\n",
            "iteration 23 train: 0.8409316539764404 cv: 0.863175630569458\n",
            "iteration 24 train: 0.8408538103103638 cv: 0.8631008863449097\n",
            "iteration 25 train: 0.8407849073410034 cv: 0.8630346655845642\n",
            "iteration 26 train: 0.840723991394043 cv: 0.8629761338233948\n",
            "iteration 27 train: 0.8406699299812317 cv: 0.8629243969917297\n",
            "iteration 28 train: 0.8406221270561218 cv: 0.8628785014152527\n",
            "iteration 29 train: 0.8405796885490417 cv: 0.8628378510475159\n",
            "iteration 30 train: 0.8405418395996094 cv: 0.8628016114234924\n",
            "iteration 31 train: 0.8405082821846008 cv: 0.8627694249153137\n",
            "iteration 32 train: 0.8404784202575684 cv: 0.8627409934997559\n",
            "iteration 33 train: 0.8404518365859985 cv: 0.8627155423164368\n",
            "iteration 34 train: 0.8404281735420227 cv: 0.8626930117607117\n",
            "iteration 35 train: 0.8404071927070618 cv: 0.8626729846000671\n",
            "iteration 36 train: 0.8403884768486023 cv: 0.8626551628112793\n",
            "iteration 37 train: 0.8403717279434204 cv: 0.8626391887664795\n",
            "iteration 38 train: 0.8403568267822266 cv: 0.8626251220703125\n",
            "iteration 39 train: 0.8403435945510864 cv: 0.8626124858856201\n",
            "iteration 40 train: 0.8403316140174866 cv: 0.8626011610031128\n",
            "iteration 41 train: 0.8403210639953613 cv: 0.8625910878181458\n",
            "iteration 42 train: 0.8403114676475525 cv: 0.8625820875167847\n",
            "iteration 43 train: 0.8403030037879944 cv: 0.8625741004943848\n",
            "iteration 44 train: 0.8402953743934631 cv: 0.8625669479370117\n",
            "iteration 45 train: 0.8402885794639587 cv: 0.8625605702400208\n",
            "iteration 46 train: 0.8402824997901917 cv: 0.8625548481941223\n",
            "iteration 47 train: 0.8402770161628723 cv: 0.8625497817993164\n",
            "iteration 48 train: 0.840272068977356 cv: 0.8625452518463135\n",
            "iteration 49 train: 0.8402676582336426 cv: 0.862541139125824\n",
            "best iteration: 49\n"
          ],
          "name": "stdout"
        }
      ]
    },
    {
      "cell_type": "markdown",
      "metadata": {
        "id": "IP4r9OJv32L7",
        "colab_type": "text"
      },
      "source": [
        "**Features = 10, Lambda = 0.09**"
      ]
    },
    {
      "cell_type": "code",
      "metadata": {
        "id": "ro0unQ66ip1U",
        "colab_type": "code",
        "colab": {
          "base_uri": "https://localhost:8080/",
          "height": 391
        },
        "outputId": "1a761405-2939-459c-f4ce-39c876d1f047"
      },
      "source": [
        "features = 10\n",
        "\n",
        "lmbda = 0.09\n",
        "# increase it in case out-of GPU memory, but n_components / BATCHES has to be a multiple of 10\n",
        "BATCHES=1\n",
        "\n",
        "scores = []\n",
        "factorization = h2o4gpu.solvers.FactorizationH2O(features, lmbda, max_iter=50)\n",
        "factorization.fit(train, X_test=test, X_BATCHES=BATCHES, THETA_BATCHES=BATCHES, scores=scores, verbose=True, early_stopping_rounds=5)\n",
        "print('best iteration:',factorization.best_iteration)"
      ],
      "execution_count": null,
      "outputs": [
        {
          "output_type": "stream",
          "text": [
            "iteration 0 train: 0.919082522392273 cv: 0.9337408542633057\n",
            "iteration 1 train: 0.8912507891654968 cv: 0.9045393466949463\n",
            "iteration 2 train: 0.86146479845047 cv: 0.8783158659934998\n",
            "iteration 3 train: 0.8503574728965759 cv: 0.8692879676818848\n",
            "iteration 4 train: 0.8436897993087769 cv: 0.8641850352287292\n",
            "iteration 5 train: 0.8396382927894592 cv: 0.8612208366394043\n",
            "iteration 6 train: 0.8375617861747742 cv: 0.8597744703292847\n",
            "iteration 7 train: 0.8364052772521973 cv: 0.8590083122253418\n",
            "iteration 8 train: 0.8356488347053528 cv: 0.8585264086723328\n",
            "iteration 9 train: 0.8351474404335022 cv: 0.8582193851470947\n",
            "iteration 10 train: 0.8348405957221985 cv: 0.8580418825149536\n",
            "iteration 11 train: 0.8346686959266663 cv: 0.857952356338501\n",
            "iteration 12 train: 0.8345800638198853 cv: 0.8579162955284119\n",
            "iteration 13 train: 0.8345388770103455 cv: 0.8579100966453552\n",
            "iteration 14 train: 0.8345237374305725 cv: 0.8579197525978088\n",
            "iteration 15 train: 0.8345234990119934 cv: 0.8579378128051758\n",
            "iteration 16 train: 0.8345307111740112 cv: 0.857959508895874\n",
            "iteration 17 train: 0.8345422148704529 cv: 0.8579828143119812\n",
            "iteration 18 train: 0.8345552682876587 cv: 0.8580057621002197\n",
            "iteration 19 train: 0.8345691561698914 cv: 0.8580281734466553\n",
            "best iteration:13 train: 0.8345388770103455 cv: 0.8579100966453552\n",
            "best iteration: 13\n"
          ],
          "name": "stdout"
        }
      ]
    },
    {
      "cell_type": "markdown",
      "metadata": {
        "id": "CticZW_S4Njh",
        "colab_type": "text"
      },
      "source": [
        "**Features = 20, Lambda = 0.09**"
      ]
    },
    {
      "cell_type": "code",
      "metadata": {
        "id": "TjEf8aNF4Ag9",
        "colab_type": "code",
        "colab": {
          "base_uri": "https://localhost:8080/",
          "height": 884
        },
        "outputId": "cd60b575-6112-4cd4-9fe7-e1db303e196c"
      },
      "source": [
        "features = 20\n",
        "\n",
        "lmbda = 0.09\n",
        "# increase it in case out-of GPU memory, but n_components / BATCHES has to be a multiple of 10\n",
        "BATCHES=1\n",
        "\n",
        "scores = []\n",
        "factorization = h2o4gpu.solvers.FactorizationH2O(features, lmbda, max_iter=50)\n",
        "factorization.fit(train, X_test=test, X_BATCHES=BATCHES, THETA_BATCHES=BATCHES, scores=scores, verbose=True, early_stopping_rounds=5)\n",
        "print('best iteration:',factorization.best_iteration)"
      ],
      "execution_count": null,
      "outputs": [
        {
          "output_type": "stream",
          "text": [
            "iteration 0 train: 0.9176719188690186 cv: 0.9394670128822327\n",
            "iteration 1 train: 0.8838629722595215 cv: 0.9014418721199036\n",
            "iteration 2 train: 0.8572823405265808 cv: 0.8776885271072388\n",
            "iteration 3 train: 0.8464813232421875 cv: 0.868797242641449\n",
            "iteration 4 train: 0.84029221534729 cv: 0.8640092015266418\n",
            "iteration 5 train: 0.8369607925415039 cv: 0.8615228533744812\n",
            "iteration 6 train: 0.8350040912628174 cv: 0.8600958585739136\n",
            "iteration 7 train: 0.8336581587791443 cv: 0.8591333627700806\n",
            "iteration 8 train: 0.8326548337936401 cv: 0.8584248423576355\n",
            "iteration 9 train: 0.831879734992981 cv: 0.8578796982765198\n",
            "iteration 10 train: 0.831265389919281 cv: 0.8574479222297668\n",
            "iteration 11 train: 0.8307672739028931 cv: 0.8570973873138428\n",
            "iteration 12 train: 0.8303550481796265 cv: 0.8568066358566284\n",
            "iteration 13 train: 0.8300079703330994 cv: 0.8565616607666016\n",
            "iteration 14 train: 0.8297115564346313 cv: 0.8563523888587952\n",
            "iteration 15 train: 0.8294562101364136 cv: 0.8561720848083496\n",
            "iteration 16 train: 0.8292346000671387 cv: 0.8560155630111694\n",
            "iteration 17 train: 0.8290412425994873 cv: 0.855879008769989\n",
            "iteration 18 train: 0.8288719058036804 cv: 0.8557595610618591\n",
            "iteration 19 train: 0.828723132610321 cv: 0.8556543588638306\n",
            "iteration 20 train: 0.8285923600196838 cv: 0.8555620312690735\n",
            "iteration 21 train: 0.8284777402877808 cv: 0.8554805517196655\n",
            "iteration 22 train: 0.828376293182373 cv: 0.8554084897041321\n",
            "iteration 23 train: 0.8282870650291443 cv: 0.8553449511528015\n",
            "iteration 24 train: 0.8282084465026855 cv: 0.855288565158844\n",
            "iteration 25 train: 0.828139066696167 cv: 0.8552388548851013\n",
            "iteration 26 train: 0.8280777335166931 cv: 0.8551944494247437\n",
            "iteration 27 train: 0.8280234336853027 cv: 0.8551551103591919\n",
            "iteration 28 train: 0.8279752731323242 cv: 0.8551201820373535\n",
            "iteration 29 train: 0.8279323577880859 cv: 0.8550890684127808\n",
            "iteration 30 train: 0.8278941512107849 cv: 0.8550612330436707\n",
            "iteration 31 train: 0.8278601169586182 cv: 0.8550363183021545\n",
            "iteration 32 train: 0.8278294801712036 cv: 0.8550140857696533\n",
            "iteration 33 train: 0.8278021216392517 cv: 0.8549941182136536\n",
            "iteration 34 train: 0.8277775645256042 cv: 0.8549761772155762\n",
            "iteration 35 train: 0.8277555108070374 cv: 0.8549600839614868\n",
            "iteration 36 train: 0.8277356624603271 cv: 0.854945719242096\n",
            "iteration 37 train: 0.8277177214622498 cv: 0.8549327254295349\n",
            "iteration 38 train: 0.8277016282081604 cv: 0.8549211025238037\n",
            "iteration 39 train: 0.8276868462562561 cv: 0.8549103736877441\n",
            "iteration 40 train: 0.8276734948158264 cv: 0.8549007773399353\n",
            "iteration 41 train: 0.827661395072937 cv: 0.8548921942710876\n",
            "iteration 42 train: 0.8276506662368774 cv: 0.8548845052719116\n",
            "iteration 43 train: 0.8276406526565552 cv: 0.8548774719238281\n",
            "iteration 44 train: 0.8276315927505493 cv: 0.8548710346221924\n",
            "iteration 45 train: 0.8276233673095703 cv: 0.854865312576294\n",
            "iteration 46 train: 0.8276158571243286 cv: 0.8548600673675537\n",
            "iteration 47 train: 0.8276087641716003 cv: 0.8548551201820374\n",
            "iteration 48 train: 0.8276023864746094 cv: 0.8548507690429688\n",
            "iteration 49 train: 0.8275965452194214 cv: 0.8548467755317688\n",
            "best iteration: 49\n"
          ],
          "name": "stdout"
        }
      ]
    },
    {
      "cell_type": "markdown",
      "metadata": {
        "id": "laraHAMv4u5J",
        "colab_type": "text"
      },
      "source": [
        "**Features = 40, Lambda = 0.09**"
      ]
    },
    {
      "cell_type": "code",
      "metadata": {
        "id": "JaS8P-RS4Svf",
        "colab_type": "code",
        "colab": {
          "base_uri": "https://localhost:8080/",
          "height": 884
        },
        "outputId": "d63ba280-240b-4dd3-9dac-1fe63ab14e2c"
      },
      "source": [
        "features = 40\n",
        "\n",
        "lmbda = 0.09\n",
        "# increase it in case out-of GPU memory, but n_components / BATCHES has to be a multiple of 10\n",
        "BATCHES=1\n",
        "\n",
        "scores = []\n",
        "factorization = h2o4gpu.solvers.FactorizationH2O(features, lmbda, max_iter=50)\n",
        "factorization.fit(train, X_test=test, X_BATCHES=BATCHES, THETA_BATCHES=BATCHES, scores=scores, verbose=True, early_stopping_rounds=5)\n",
        "print('best iteration:',factorization.best_iteration)"
      ],
      "execution_count": null,
      "outputs": [
        {
          "output_type": "stream",
          "text": [
            "iteration 0 train: 0.9290470480918884 cv: 0.9604634046554565\n",
            "iteration 1 train: 0.8859197497367859 cv: 0.9085109233856201\n",
            "iteration 2 train: 0.8599783182144165 cv: 0.8842960596084595\n",
            "iteration 3 train: 0.8490181565284729 cv: 0.8745591640472412\n",
            "iteration 4 train: 0.8429808020591736 cv: 0.8693076968193054\n",
            "iteration 5 train: 0.8392906785011292 cv: 0.8660891652107239\n",
            "iteration 6 train: 0.836770236492157 cv: 0.8638776540756226\n",
            "iteration 7 train: 0.8349432945251465 cv: 0.8622585535049438\n",
            "iteration 8 train: 0.8335690498352051 cv: 0.8610249161720276\n",
            "iteration 9 train: 0.8325038552284241 cv: 0.8600568175315857\n",
            "iteration 10 train: 0.8316574096679688 cv: 0.8592787384986877\n",
            "iteration 11 train: 0.8309704661369324 cv: 0.8586417436599731\n",
            "iteration 12 train: 0.8304030299186707 cv: 0.8581116795539856\n",
            "iteration 13 train: 0.8299270868301392 cv: 0.8576653003692627\n",
            "iteration 14 train: 0.8295233845710754 cv: 0.85728520154953\n",
            "iteration 15 train: 0.8291776776313782 cv: 0.8569592237472534\n",
            "iteration 16 train: 0.8288794755935669 cv: 0.8566775321960449\n",
            "iteration 17 train: 0.8286205530166626 cv: 0.8564329743385315\n",
            "iteration 18 train: 0.8283945918083191 cv: 0.856219470500946\n",
            "iteration 19 train: 0.8281965851783752 cv: 0.8560324907302856\n",
            "iteration 20 train: 0.8280225992202759 cv: 0.8558681011199951\n",
            "iteration 21 train: 0.8278688788414001 cv: 0.8557230830192566\n",
            "iteration 22 train: 0.8277331590652466 cv: 0.8555948734283447\n",
            "iteration 23 train: 0.8276127576828003 cv: 0.8554813265800476\n",
            "iteration 24 train: 0.8275059461593628 cv: 0.8553804755210876\n",
            "iteration 25 train: 0.8274108171463013 cv: 0.855290949344635\n",
            "iteration 26 train: 0.8273260593414307 cv: 0.855211079120636\n",
            "iteration 27 train: 0.8272504210472107 cv: 0.8551397919654846\n",
            "iteration 28 train: 0.8271828293800354 cv: 0.855076253414154\n",
            "iteration 29 train: 0.8271223306655884 cv: 0.8550194501876831\n",
            "iteration 30 train: 0.8270681500434875 cv: 0.8549685478210449\n",
            "iteration 31 train: 0.8270195722579956 cv: 0.8549230098724365\n",
            "iteration 32 train: 0.82697594165802 cv: 0.8548822402954102\n",
            "iteration 33 train: 0.8269367814064026 cv: 0.8548456430435181\n",
            "iteration 34 train: 0.8269014954566956 cv: 0.8548128008842468\n",
            "iteration 35 train: 0.826869785785675 cv: 0.8547833561897278\n",
            "iteration 36 train: 0.8268412947654724 cv: 0.8547569513320923\n",
            "iteration 37 train: 0.8268156051635742 cv: 0.8547331094741821\n",
            "iteration 38 train: 0.8267924189567566 cv: 0.854711651802063\n",
            "iteration 39 train: 0.8267715573310852 cv: 0.8546923995018005\n",
            "iteration 40 train: 0.8267527222633362 cv: 0.8546750545501709\n",
            "iteration 41 train: 0.8267356157302856 cv: 0.854659378528595\n",
            "iteration 42 train: 0.8267201781272888 cv: 0.8546453714370728\n",
            "iteration 43 train: 0.8267062902450562 cv: 0.8546326756477356\n",
            "iteration 44 train: 0.8266936540603638 cv: 0.854621171951294\n",
            "iteration 45 train: 0.8266822695732117 cv: 0.8546109199523926\n",
            "iteration 46 train: 0.8266718983650208 cv: 0.8546016812324524\n",
            "iteration 47 train: 0.8266624212265015 cv: 0.8545931577682495\n",
            "iteration 48 train: 0.8266539573669434 cv: 0.8545855283737183\n",
            "iteration 49 train: 0.8266462087631226 cv: 0.8545786142349243\n",
            "best iteration: 49\n"
          ],
          "name": "stdout"
        }
      ]
    },
    {
      "cell_type": "markdown",
      "metadata": {
        "id": "h_epMrmz5ykv",
        "colab_type": "text"
      },
      "source": [
        "**Features = 50, Lambda = 0.09**"
      ]
    },
    {
      "cell_type": "code",
      "metadata": {
        "id": "8wEkSX7z4zPo",
        "colab_type": "code",
        "colab": {
          "base_uri": "https://localhost:8080/",
          "height": 884
        },
        "outputId": "dcb1a331-4b17-45d3-eb08-19366e188997"
      },
      "source": [
        "features = 50\n",
        "\n",
        "lmbda = 0.09\n",
        "# increase it in case out-of GPU memory, but n_components / BATCHES has to be a multiple of 10\n",
        "BATCHES=1\n",
        "\n",
        "scores = []\n",
        "factorization = h2o4gpu.solvers.FactorizationH2O(features, lmbda, max_iter=50)\n",
        "factorization.fit(train, X_test=test, X_BATCHES=BATCHES, THETA_BATCHES=BATCHES, scores=scores, verbose=True, early_stopping_rounds=5)\n",
        "print('best iteration:',factorization.best_iteration)"
      ],
      "execution_count": null,
      "outputs": [
        {
          "output_type": "stream",
          "text": [
            "iteration 0 train: 0.9375385642051697 cv: 0.972289502620697\n",
            "iteration 1 train: 0.887265145778656 cv: 0.9119730591773987\n",
            "iteration 2 train: 0.8620395660400391 cv: 0.8878561854362488\n",
            "iteration 3 train: 0.8508060574531555 cv: 0.8774559497833252\n",
            "iteration 4 train: 0.844757616519928 cv: 0.8718321323394775\n",
            "iteration 5 train: 0.8408340215682983 cv: 0.8681830167770386\n",
            "iteration 6 train: 0.8380693197250366 cv: 0.8656010031700134\n",
            "iteration 7 train: 0.8360319137573242 cv: 0.8636833429336548\n",
            "iteration 8 train: 0.8344753980636597 cv: 0.8622075915336609\n",
            "iteration 9 train: 0.8332513570785522 cv: 0.8610408306121826\n",
            "iteration 10 train: 0.832267701625824 cv: 0.860099196434021\n",
            "iteration 11 train: 0.8314639329910278 cv: 0.8593271970748901\n",
            "iteration 12 train: 0.8307993412017822 cv: 0.8586863279342651\n",
            "iteration 13 train: 0.8302444219589233 cv: 0.8581491708755493\n",
            "iteration 14 train: 0.8297770023345947 cv: 0.857694685459137\n",
            "iteration 15 train: 0.829380452632904 cv: 0.8573076725006104\n",
            "iteration 16 train: 0.8290416598320007 cv: 0.8569755554199219\n",
            "iteration 17 train: 0.8287506103515625 cv: 0.8566892147064209\n",
            "iteration 18 train: 0.8284990191459656 cv: 0.8564407825469971\n",
            "iteration 19 train: 0.8282803893089294 cv: 0.8562244176864624\n",
            "iteration 20 train: 0.8280894756317139 cv: 0.8560352325439453\n",
            "iteration 21 train: 0.827922523021698 cv: 0.8558692336082458\n",
            "iteration 22 train: 0.827775239944458 cv: 0.8557230830192566\n",
            "iteration 23 train: 0.8276455998420715 cv: 0.8555939793586731\n",
            "iteration 24 train: 0.8275309801101685 cv: 0.8554798364639282\n",
            "iteration 25 train: 0.8274292349815369 cv: 0.8553785085678101\n",
            "iteration 26 train: 0.8273388147354126 cv: 0.8552883863449097\n",
            "iteration 27 train: 0.827258288860321 cv: 0.855208158493042\n",
            "iteration 28 train: 0.8271865844726562 cv: 0.8551366925239563\n",
            "iteration 29 train: 0.8271224498748779 cv: 0.8550730347633362\n",
            "iteration 30 train: 0.827065110206604 cv: 0.8550159335136414\n",
            "iteration 31 train: 0.8270137310028076 cv: 0.8549649119377136\n",
            "iteration 32 train: 0.8269677758216858 cv: 0.8549193739891052\n",
            "iteration 33 train: 0.826926589012146 cv: 0.8548784255981445\n",
            "iteration 34 train: 0.8268894553184509 cv: 0.8548416495323181\n",
            "iteration 35 train: 0.8268561959266663 cv: 0.8548088073730469\n",
            "iteration 36 train: 0.8268263936042786 cv: 0.8547792434692383\n",
            "iteration 37 train: 0.8267994523048401 cv: 0.854752779006958\n",
            "iteration 38 train: 0.8267751932144165 cv: 0.8547289371490479\n",
            "iteration 39 train: 0.8267534971237183 cv: 0.8547075390815735\n",
            "iteration 40 train: 0.8267338275909424 cv: 0.8546882271766663\n",
            "iteration 41 train: 0.8267161250114441 cv: 0.8546709418296814\n",
            "iteration 42 train: 0.8267002105712891 cv: 0.8546553254127502\n",
            "iteration 43 train: 0.8266858458518982 cv: 0.8546411991119385\n",
            "iteration 44 train: 0.8266727924346924 cv: 0.8546285629272461\n",
            "iteration 45 train: 0.8266610503196716 cv: 0.8546171188354492\n",
            "iteration 46 train: 0.8266503214836121 cv: 0.8546068072319031\n",
            "iteration 47 train: 0.826640784740448 cv: 0.8545976281166077\n",
            "iteration 48 train: 0.8266321420669556 cv: 0.8545892834663391\n",
            "iteration 49 train: 0.82662433385849 cv: 0.8545817136764526\n",
            "best iteration: 49\n"
          ],
          "name": "stdout"
        }
      ]
    },
    {
      "cell_type": "markdown",
      "metadata": {
        "id": "-R8eVlAa6jUo",
        "colab_type": "text"
      },
      "source": [
        "**Features = 10, Lambda = 0.01**"
      ]
    },
    {
      "cell_type": "code",
      "metadata": {
        "id": "bQ3ad8HA55QL",
        "colab_type": "code",
        "colab": {
          "base_uri": "https://localhost:8080/",
          "height": 884
        },
        "outputId": "8f54fcff-5299-425e-9100-a63b76baa7b1"
      },
      "source": [
        "features = 10\n",
        "\n",
        "lmbda = 0.01\n",
        "# increase it in case out-of GPU memory, but n_components / BATCHES has to be a multiple of 10\n",
        "BATCHES=1\n",
        "\n",
        "scores = []\n",
        "factorization = h2o4gpu.solvers.FactorizationH2O(features, lmbda, max_iter=50)\n",
        "factorization.fit(train, X_test=test, X_BATCHES=BATCHES, THETA_BATCHES=BATCHES, scores=scores, verbose=True, early_stopping_rounds=5)\n",
        "print('best iteration:',factorization.best_iteration)"
      ],
      "execution_count": null,
      "outputs": [
        {
          "output_type": "stream",
          "text": [
            "iteration 0 train: 0.9023697376251221 cv: 0.9483940601348877\n",
            "iteration 1 train: 0.847931981086731 cv: 0.9051058888435364\n",
            "iteration 2 train: 0.8170322179794312 cv: 0.8747328519821167\n",
            "iteration 3 train: 0.8035961985588074 cv: 0.8613352179527283\n",
            "iteration 4 train: 0.7973046898841858 cv: 0.8551712036132812\n",
            "iteration 5 train: 0.7941975593566895 cv: 0.8521674275398254\n",
            "iteration 6 train: 0.7925224900245667 cv: 0.850562334060669\n",
            "iteration 7 train: 0.791532576084137 cv: 0.8496137261390686\n",
            "iteration 8 train: 0.7909086346626282 cv: 0.8490219116210938\n",
            "iteration 9 train: 0.7904977798461914 cv: 0.8486401438713074\n",
            "iteration 10 train: 0.7902175784111023 cv: 0.8483867049217224\n",
            "iteration 11 train: 0.7900206446647644 cv: 0.8482202887535095\n",
            "iteration 12 train: 0.7898778915405273 cv: 0.8481069207191467\n",
            "iteration 13 train: 0.7897714376449585 cv: 0.8480294942855835\n",
            "iteration 14 train: 0.7896901965141296 cv: 0.8479746580123901\n",
            "iteration 15 train: 0.7896267175674438 cv: 0.8479333519935608\n",
            "iteration 16 train: 0.7895761728286743 cv: 0.847902238368988\n",
            "iteration 17 train: 0.7895348072052002 cv: 0.8478774428367615\n",
            "iteration 18 train: 0.7895002365112305 cv: 0.8478583097457886\n",
            "iteration 19 train: 0.789470911026001 cv: 0.8478421568870544\n",
            "iteration 20 train: 0.7894451022148132 cv: 0.847828209400177\n",
            "iteration 21 train: 0.7894223928451538 cv: 0.8478161096572876\n",
            "iteration 22 train: 0.7894017696380615 cv: 0.8478049635887146\n",
            "iteration 23 train: 0.7893829941749573 cv: 0.8477943539619446\n",
            "iteration 24 train: 0.7893654108047485 cv: 0.847784698009491\n",
            "iteration 25 train: 0.7893489003181458 cv: 0.8477756381034851\n",
            "iteration 26 train: 0.7893332839012146 cv: 0.847766101360321\n",
            "iteration 27 train: 0.7893182039260864 cv: 0.84775710105896\n",
            "iteration 28 train: 0.7893036007881165 cv: 0.8477484583854675\n",
            "iteration 29 train: 0.7892894744873047 cv: 0.8477391004562378\n",
            "iteration 30 train: 0.7892755270004272 cv: 0.8477305173873901\n",
            "iteration 31 train: 0.7892619967460632 cv: 0.8477214574813843\n",
            "iteration 32 train: 0.7892484068870544 cv: 0.8477122783660889\n",
            "iteration 33 train: 0.78923499584198 cv: 0.8477027416229248\n",
            "iteration 34 train: 0.7892217040061951 cv: 0.8476929664611816\n",
            "iteration 35 train: 0.7892083525657654 cv: 0.847682535648346\n",
            "iteration 36 train: 0.78919517993927 cv: 0.8476724028587341\n",
            "iteration 37 train: 0.7891818284988403 cv: 0.8476611971855164\n",
            "iteration 38 train: 0.789168655872345 cv: 0.8476494550704956\n",
            "iteration 39 train: 0.7891555428504944 cv: 0.8476382493972778\n",
            "iteration 40 train: 0.7891421318054199 cv: 0.847625732421875\n",
            "iteration 41 train: 0.7891288995742798 cv: 0.8476122617721558\n",
            "iteration 42 train: 0.7891154289245605 cv: 0.8475989103317261\n",
            "iteration 43 train: 0.7891020178794861 cv: 0.8475841879844666\n",
            "iteration 44 train: 0.7890883684158325 cv: 0.8475696444511414\n",
            "iteration 45 train: 0.7890748977661133 cv: 0.8475543260574341\n",
            "iteration 46 train: 0.7890611886978149 cv: 0.8475385308265686\n",
            "iteration 47 train: 0.7890474200248718 cv: 0.8475223779678345\n",
            "iteration 48 train: 0.7890335917472839 cv: 0.8475063443183899\n",
            "iteration 49 train: 0.7890198230743408 cv: 0.8474887609481812\n",
            "best iteration: 49\n"
          ],
          "name": "stdout"
        }
      ]
    },
    {
      "cell_type": "code",
      "metadata": {
        "id": "WxS_tpLe6hRF",
        "colab_type": "code",
        "colab": {
          "base_uri": "https://localhost:8080/",
          "height": 884
        },
        "outputId": "daca617e-e6ef-4cff-8196-dc7ff0024b87"
      },
      "source": [
        "features = 100\n",
        "\n",
        "lmbda = 0.09\n",
        "# increase it in case out-of GPU memory, but n_components / BATCHES has to be a multiple of 10\n",
        "BATCHES=15\n",
        "\n",
        "scores = []\n",
        "factorization = h2o4gpu.solvers.FactorizationH2O(features, lmbda, max_iter=50)\n",
        "factorization.fit(train, X_test=test, X_BATCHES=BATCHES, THETA_BATCHES=BATCHES, scores=scores, verbose=True, early_stopping_rounds=5)\n",
        "print('best iteration:',factorization.best_iteration)"
      ],
      "execution_count": null,
      "outputs": [
        {
          "output_type": "stream",
          "text": [
            "iteration 0 train: 1.01876962184906 cv: 1.0621757507324219\n",
            "iteration 1 train: 0.9216195940971375 cv: 0.9510647058486938\n",
            "iteration 2 train: 0.8839120268821716 cv: 0.9126104116439819\n",
            "iteration 3 train: 0.8656641840934753 cv: 0.8942202925682068\n",
            "iteration 4 train: 0.854899525642395 cv: 0.8834402561187744\n",
            "iteration 5 train: 0.8479428291320801 cv: 0.8764787912368774\n",
            "iteration 6 train: 0.8432057499885559 cv: 0.8717188239097595\n",
            "iteration 7 train: 0.8398457169532776 cv: 0.8683204054832458\n",
            "iteration 8 train: 0.8373790383338928 cv: 0.8658079504966736\n",
            "iteration 9 train: 0.8355146646499634 cv: 0.8638963103294373\n",
            "iteration 10 train: 0.8340698480606079 cv: 0.8624061346054077\n",
            "iteration 11 train: 0.8329264521598816 cv: 0.8612208962440491\n",
            "iteration 12 train: 0.8320049047470093 cv: 0.860261857509613\n",
            "iteration 13 train: 0.8312508463859558 cv: 0.8594747185707092\n",
            "iteration 14 train: 0.8306258320808411 cv: 0.8588203191757202\n",
            "iteration 15 train: 0.8301019072532654 cv: 0.8582707643508911\n",
            "iteration 16 train: 0.8296585083007812 cv: 0.8578049540519714\n",
            "iteration 17 train: 0.8292800188064575 cv: 0.8574073314666748\n",
            "iteration 18 train: 0.8289548754692078 cv: 0.8570652604103088\n",
            "iteration 19 train: 0.8286740183830261 cv: 0.8567696213722229\n",
            "iteration 20 train: 0.8284298777580261 cv: 0.8565125465393066\n",
            "iteration 21 train: 0.8282166123390198 cv: 0.8562880754470825\n",
            "iteration 22 train: 0.8280300498008728 cv: 0.8560914993286133\n",
            "iteration 23 train: 0.8278658986091614 cv: 0.8559187054634094\n",
            "iteration 24 train: 0.8277212977409363 cv: 0.8557664752006531\n",
            "iteration 25 train: 0.8275933861732483 cv: 0.855631947517395\n",
            "iteration 26 train: 0.8274800181388855 cv: 0.855512797832489\n",
            "iteration 27 train: 0.8273795247077942 cv: 0.8554072380065918\n",
            "iteration 28 train: 0.8272901773452759 cv: 0.855313241481781\n",
            "iteration 29 train: 0.8272106647491455 cv: 0.8552296161651611\n",
            "iteration 30 train: 0.8271396160125732 cv: 0.8551549911499023\n",
            "iteration 31 train: 0.8270763754844666 cv: 0.8550885319709778\n",
            "iteration 32 train: 0.8270198702812195 cv: 0.8550289869308472\n",
            "iteration 33 train: 0.8269692063331604 cv: 0.8549759387969971\n",
            "iteration 34 train: 0.8269239068031311 cv: 0.8549283146858215\n",
            "iteration 35 train: 0.8268832564353943 cv: 0.8548858165740967\n",
            "iteration 36 train: 0.8268468976020813 cv: 0.8548476099967957\n",
            "iteration 37 train: 0.8268142938613892 cv: 0.8548133969306946\n",
            "iteration 38 train: 0.8267850279808044 cv: 0.8547827005386353\n",
            "iteration 39 train: 0.8267589211463928 cv: 0.8547550439834595\n",
            "iteration 40 train: 0.826735258102417 cv: 0.8547304272651672\n",
            "iteration 41 train: 0.8267140984535217 cv: 0.8547080159187317\n",
            "iteration 42 train: 0.8266950249671936 cv: 0.8546880483627319\n",
            "iteration 43 train: 0.8266779780387878 cv: 0.8546701073646545\n",
            "iteration 44 train: 0.8266626000404358 cv: 0.8546539545059204\n",
            "iteration 45 train: 0.8266487121582031 cv: 0.8546393513679504\n",
            "iteration 46 train: 0.8266361951828003 cv: 0.8546262383460999\n",
            "iteration 47 train: 0.8266249895095825 cv: 0.8546144962310791\n",
            "iteration 48 train: 0.8266148567199707 cv: 0.8546038269996643\n",
            "iteration 49 train: 0.8266057372093201 cv: 0.8545942902565002\n",
            "best iteration: 49\n"
          ],
          "name": "stdout"
        }
      ]
    },
    {
      "cell_type": "code",
      "metadata": {
        "id": "WJyOD8H87MQG",
        "colab_type": "code",
        "colab": {
          "base_uri": "https://localhost:8080/",
          "height": 884
        },
        "outputId": "514a2991-68f5-4ae2-9f6e-3ab96442de95"
      },
      "source": [
        "features = 150\n",
        "\n",
        "lmbda = 0.1\n",
        "# increase it in case out-of GPU memory, but n_components / BATCHES has to be a multiple of 10\n",
        "BATCHES=20\n",
        "\n",
        "scores = []\n",
        "factorization = h2o4gpu.solvers.FactorizationH2O(features, lmbda, max_iter=50)\n",
        "factorization.fit(train, X_test=test, X_BATCHES=BATCHES, THETA_BATCHES=BATCHES, scores=scores, verbose=True, early_stopping_rounds=5)\n",
        "print('best iteration:',factorization.best_iteration)"
      ],
      "execution_count": null,
      "outputs": [
        {
          "output_type": "stream",
          "text": [
            "iteration 0 train: 1.1704909801483154 cv: 1.2095153331756592\n",
            "iteration 1 train: 0.9815908670425415 cv: 1.006775140762329\n",
            "iteration 2 train: 0.9198583960533142 cv: 0.9438983201980591\n",
            "iteration 3 train: 0.8917080163955688 cv: 0.9153193235397339\n",
            "iteration 4 train: 0.8759885430335999 cv: 0.8993964195251465\n",
            "iteration 5 train: 0.8663532137870789 cv: 0.8896118402481079\n",
            "iteration 6 train: 0.8600542545318604 cv: 0.8831852674484253\n",
            "iteration 7 train: 0.8557230234146118 cv: 0.8787420392036438\n",
            "iteration 8 train: 0.8526203632354736 cv: 0.8755417466163635\n",
            "iteration 9 train: 0.8503212332725525 cv: 0.8731583952903748\n",
            "iteration 10 train: 0.8485693335533142 cv: 0.8713340163230896\n",
            "iteration 11 train: 0.8472029566764832 cv: 0.8699056506156921\n",
            "iteration 12 train: 0.846116304397583 cv: 0.8687660098075867\n",
            "iteration 13 train: 0.8452378511428833 cv: 0.8678422570228577\n",
            "iteration 14 train: 0.8445178270339966 cv: 0.8670834898948669\n",
            "iteration 15 train: 0.8439208269119263 cv: 0.8664531707763672\n",
            "iteration 16 train: 0.8434208631515503 cv: 0.8659247159957886\n",
            "iteration 17 train: 0.8429986238479614 cv: 0.8654777407646179\n",
            "iteration 18 train: 0.8426395654678345 cv: 0.8650973439216614\n",
            "iteration 19 train: 0.8423321843147278 cv: 0.8647716045379639\n",
            "iteration 20 train: 0.8420677781105042 cv: 0.8644912242889404\n",
            "iteration 21 train: 0.8418394923210144 cv: 0.8642487525939941\n",
            "iteration 22 train: 0.8416413068771362 cv: 0.8640385270118713\n",
            "iteration 23 train: 0.8414689302444458 cv: 0.8638554215431213\n",
            "iteration 24 train: 0.8413186073303223 cv: 0.8636955618858337\n",
            "iteration 25 train: 0.8411868810653687 cv: 0.8635558485984802\n",
            "iteration 26 train: 0.8410714268684387 cv: 0.8634330630302429\n",
            "iteration 27 train: 0.840969979763031 cv: 0.8633252382278442\n",
            "iteration 28 train: 0.8408808708190918 cv: 0.8632304072380066\n",
            "iteration 29 train: 0.8408021926879883 cv: 0.8631467819213867\n",
            "iteration 30 train: 0.8407328724861145 cv: 0.8630730509757996\n",
            "iteration 31 train: 0.8406714797019958 cv: 0.8630078434944153\n",
            "iteration 32 train: 0.8406173586845398 cv: 0.8629502058029175\n",
            "iteration 33 train: 0.8405694961547852 cv: 0.862899124622345\n",
            "iteration 34 train: 0.8405272364616394 cv: 0.8628540635108948\n",
            "iteration 35 train: 0.8404895663261414 cv: 0.8628140091896057\n",
            "iteration 36 train: 0.8404562473297119 cv: 0.8627785444259644\n",
            "iteration 37 train: 0.8404268026351929 cv: 0.8627469539642334\n",
            "iteration 38 train: 0.8404004573822021 cv: 0.8627189993858337\n",
            "iteration 39 train: 0.8403772115707397 cv: 0.8626941442489624\n",
            "iteration 40 train: 0.8403565883636475 cv: 0.8626720905303955\n",
            "iteration 41 train: 0.8403382897377014 cv: 0.8626524806022644\n",
            "iteration 42 train: 0.8403220176696777 cv: 0.86263507604599\n",
            "iteration 43 train: 0.8403074741363525 cv: 0.8626194596290588\n",
            "iteration 44 train: 0.8402947187423706 cv: 0.8626056909561157\n",
            "iteration 45 train: 0.8402832746505737 cv: 0.862593412399292\n",
            "iteration 46 train: 0.8402731418609619 cv: 0.8625824451446533\n",
            "iteration 47 train: 0.8402641415596008 cv: 0.8625727295875549\n",
            "iteration 48 train: 0.8402561545372009 cv: 0.8625641465187073\n",
            "iteration 49 train: 0.8402491211891174 cv: 0.8625563383102417\n",
            "best iteration: 49\n"
          ],
          "name": "stdout"
        }
      ]
    },
    {
      "cell_type": "code",
      "metadata": {
        "id": "3ISt3BzO-qu6",
        "colab_type": "code",
        "colab": {}
      },
      "source": [
        ""
      ],
      "execution_count": null,
      "outputs": []
    },
    {
      "cell_type": "markdown",
      "metadata": {
        "id": "0XEb5X04ARZ4",
        "colab_type": "text"
      },
      "source": [
        "factorization.XT is the users matrix: users x features\n",
        "\n",
        "factorization.thetaT is the movies matrix: movies x features\n",
        "\n",
        "Multiplying the two matrices gives the reconstructed user-item matrix which contains the ratings for non-rated movies.\n",
        "\n"
      ]
    },
    {
      "cell_type": "code",
      "metadata": {
        "id": "KqGlhkJ6A_Kj",
        "colab_type": "code",
        "colab": {
          "base_uri": "https://localhost:8080/",
          "height": 68
        },
        "outputId": "c6ceb4f9-4780-4ef7-e5ef-1ea2780a36ac"
      },
      "source": [
        "print(factorization.XT.shape,'\\n',factorization.XT.dtype)\n",
        "print(factorization.thetaT.shape)"
      ],
      "execution_count": null,
      "outputs": [
        {
          "output_type": "stream",
          "text": [
            "(480189, 150) \n",
            " float32\n",
            "(17770, 150)\n"
          ],
          "name": "stdout"
        }
      ]
    },
    {
      "cell_type": "markdown",
      "metadata": {
        "id": "E9M4xukgCe_m",
        "colab_type": "text"
      },
      "source": [
        "From above observations, we get good results when **features = 10** and **lambda = 0.09** \n",
        "\n",
        "best iteration: 13          \n",
        "\n",
        "**train error (mse):** 0.8345388770103455  \n",
        "\n",
        "**validation error (mse):** 0.8579100966453552\n",
        "\n",
        "Which quite fairly low variance and low bias."
      ]
    },
    {
      "cell_type": "code",
      "metadata": {
        "id": "-d4NrdbDBFYZ",
        "colab_type": "code",
        "colab": {
          "base_uri": "https://localhost:8080/",
          "height": 34
        },
        "outputId": "cbb91d6f-79f1-41d5-9da9-66dceaab4132"
      },
      "source": [
        "type(factorization.XT)"
      ],
      "execution_count": null,
      "outputs": [
        {
          "output_type": "execute_result",
          "data": {
            "text/plain": [
              "numpy.ndarray"
            ]
          },
          "metadata": {
            "tags": []
          },
          "execution_count": 11
        }
      ]
    }
  ]
}